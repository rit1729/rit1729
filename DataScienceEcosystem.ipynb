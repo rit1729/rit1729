{
 "cells": [
  {
   "cell_type": "markdown",
   "id": "173c157d",
   "metadata": {},
   "source": [
    "# Data Science Tools and Ecosystem"
   ]
  },
  {
   "cell_type": "markdown",
   "id": "a02f838c",
   "metadata": {},
   "source": [
    "In this notebook, Data Science Tools and Ecosystem are summarized."
   ]
  },
  {
   "cell_type": "markdown",
   "id": "021a44a5",
   "metadata": {},
   "source": [
    "1. Python\n",
    "2. R\n",
    "3. Julia"
   ]
  },
  {
   "cell_type": "markdown",
   "id": "b31db0c8",
   "metadata": {},
   "source": [
    "**Objectives:**\n",
    " * Python\n",
    " * Scala\n",
    " * Java\n",
    " * R"
   ]
  },
  {
   "cell_type": "markdown",
   "id": "b8eed0cd",
   "metadata": {},
   "source": [
    "1. Pandas\n",
    "2. scikit-learn\n",
    "3. seaborn\n",
    "4. pytorch"
   ]
  },
  {
   "cell_type": "code",
   "execution_count": 6,
   "id": "2d8347a2",
   "metadata": {},
   "outputs": [
    {
     "data": {
      "text/plain": [
       "150.0"
      ]
     },
     "execution_count": 6,
     "metadata": {},
     "output_type": "execute_result"
    }
   ],
   "source": [
    "25*5+100/4"
   ]
  },
  {
   "cell_type": "code",
   "execution_count": 7,
   "id": "6c356b4a",
   "metadata": {},
   "outputs": [
    {
     "data": {
      "text/plain": [
       "17"
      ]
     },
     "execution_count": 7,
     "metadata": {},
     "output_type": "execute_result"
    }
   ],
   "source": [
    "# This a simple arithmetic expression to mutiply then add integers\n",
    "(3*4)+5"
   ]
  },
  {
   "cell_type": "code",
   "execution_count": 8,
   "id": "b5285aaf",
   "metadata": {},
   "outputs": [
    {
     "data": {
      "text/plain": [
       "3.3333333333333335"
      ]
     },
     "execution_count": 8,
     "metadata": {},
     "output_type": "execute_result"
    }
   ],
   "source": [
    "# This will convert 200 minutes to hours by diving by 60\n",
    "200/60"
   ]
  },
  {
   "cell_type": "markdown",
   "id": "509c8906",
   "metadata": {},
   "source": [
    "## Author\n",
    "Ritesh Kumar"
   ]
  },
  {
   "cell_type": "code",
   "execution_count": null,
   "id": "4b8fb84e",
   "metadata": {},
   "outputs": [],
   "source": []
  }
 ],
 "metadata": {
  "kernelspec": {
   "display_name": "Python 3 (ipykernel)",
   "language": "python",
   "name": "python3"
  },
  "language_info": {
   "codemirror_mode": {
    "name": "ipython",
    "version": 3
   },
   "file_extension": ".py",
   "mimetype": "text/x-python",
   "name": "python",
   "nbconvert_exporter": "python",
   "pygments_lexer": "ipython3",
   "version": "3.9.12"
  }
 },
 "nbformat": 4,
 "nbformat_minor": 5
}
